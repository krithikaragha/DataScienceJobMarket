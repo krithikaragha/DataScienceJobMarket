{
 "cells": [
  {
   "cell_type": "markdown",
   "metadata": {},
   "source": [
    "### Data Science Job Market: <i>Year 2020</i>"
   ]
  },
  {
   "cell_type": "markdown",
   "metadata": {},
   "source": [
    "This project improves upon a previous data initiave by bringing in <i>updated data</i> to more precisely reflect current opportunities in the data science job market with the added variable of the ongoing COVID-19 global pandemic. Our goals include:\n",
    "   * Determine the top 3 or top 10 technical skills that are in-demand for aspiring candidates\n",
    "   * Deduce the hottest geographic areas that are doing high volume hiring in the data science space \n",
    "   * Summarize our observations and subsequent conclusions in a comprehensive jobs report which candidates can use as a <i>\"ready-reckoner\"</i> to make informed choices"
   ]
  },
  {
   "cell_type": "markdown",
   "metadata": {},
   "source": [
    "#### Import Dependencies"
   ]
  },
  {
   "cell_type": "code",
   "execution_count": 1,
   "metadata": {},
   "outputs": [],
   "source": [
    "import pandas as pd\n",
    "import numpy as np\n",
    "import matplotlib.pyplot as plt\n",
    "import seaborn as sns\n",
    "import re\n",
    "\n",
    "from collections import Counter"
   ]
  },
  {
   "cell_type": "markdown",
   "metadata": {},
   "source": [
    "#### Data Preprocessing\n",
    "\n",
    "<blockquote> Datasets were obtained from Kaggle and are separated by job functions <i>viz.,</i> data <i>analyst</i>, data <i>engineer</i> and data <i>scientist</i></blockquote>"
   ]
  },
  {
   "cell_type": "code",
   "execution_count": 2,
   "metadata": {},
   "outputs": [],
   "source": [
    "# Set identifiers for the 3 CSV files\n",
    "a_file = \"Resources/data_analyst_jobs.csv\"\n",
    "e_file = \"Resources/data_engineer_jobs.csv\"\n",
    "s_file = \"Resources/data_scientist_jobs.csv\""
   ]
  },
  {
   "cell_type": "code",
   "execution_count": 3,
   "metadata": {},
   "outputs": [],
   "source": [
    "# Read CSV files into respective dataframes \n",
    "analyst_df = pd.read_csv(a_file)\n",
    "engineer_df = pd.read_csv(e_file)\n",
    "scientist_df = pd.read_csv(s_file)"
   ]
  },
  {
   "cell_type": "code",
   "execution_count": 4,
   "metadata": {},
   "outputs": [],
   "source": [
    "# Drop useless columns, rename them first\n",
    "analyst_df.rename(columns={'Unnamed: 0': 'Nameless'}, inplace=True)\n",
    "del analyst_df['Nameless']\n",
    "\n",
    "scientist_df.rename(columns={'Unnamed: 0': 'Nameless'}, inplace=True)\n",
    "del scientist_df['Nameless']\n",
    "\n",
    "# Delete 'index' column from the data scientist jobs dataframe\n",
    "del scientist_df['index']"
   ]
  },
  {
   "cell_type": "markdown",
   "metadata": {},
   "source": [
    "<blockquote> Executive decisions were made to keep all data points for \n",
    "<i>engineering</i> roles since data engineers tend to wear many hats ranging from \"tester\"\n",
    "to \"architect\". The engineering jobs mixed in with the other two job roles i.e., data \n",
    "analyst and data scientist were filtered out.</blockquote>"
   ]
  },
  {
   "cell_type": "code",
   "execution_count": 6,
   "metadata": {},
   "outputs": [],
   "source": [
    "# Split values in 'Job Title' to create 'Job Category' that reflects the defined job function\n",
    "engineer_df['Job Category'] = engineer_df['Job Title'].apply(lambda x: 'Data Engineer' if 'Engineer' in x else 'Data Engineer')\n",
    "    \n",
    "# Additionally, filter out engineering roles mixed in with analyst/scientist functions\n",
    "analyst_df['Job Category'] = analyst_df['Job Title'].apply(lambda x: 'Data Analyst' if 'Analyst' in x else '')\n",
    "scientist_df['Job Category'] = scientist_df['Job Title'].apply(lambda x: 'Data Scientist' if 'Scientist' in x else '')"
   ]
  },
  {
   "cell_type": "code",
   "execution_count": 7,
   "metadata": {},
   "outputs": [],
   "source": [
    "# Combine the 3 dataframes into a single dataframe\n",
    "datadf_list = [analyst_df, engineer_df, scientist_df]\n",
    "datadf = pd.concat(datadf_list, join=\"inner\")"
   ]
  },
  {
   "cell_type": "markdown",
   "metadata": {},
   "source": [
    "<blockquote>The choice to drop the <i>Competitors</i> column from the combined dataframe stems from a reasoning that every aspiring candidate can do their own level of research about a Company and its competitors. From a very <i>practical</i> standpoint, we think this particular column is irrelevant to our objectives</blockquote>"
   ]
  },
  {
   "cell_type": "code",
   "execution_count": 8,
   "metadata": {},
   "outputs": [],
   "source": [
    "# Drop the 'Competitors' column from the combined dataframe\n",
    "del datadf['Competitors']"
   ]
  },
  {
   "cell_type": "code",
   "execution_count": 9,
   "metadata": {},
   "outputs": [],
   "source": [
    "# Create a key-value mapping to rename columns\n",
    "new_cols = {'Job Title':'Job Title', 'Job Category':'Job Type',\n",
    "            'Salary Estimate':'Salary Range', 'Job Description':'Job Description',\n",
    "            'Rating':'Job Rating', 'Company Name':'Company Name',\n",
    "            'Location':'Location', 'Headquarters':'HQ',\n",
    "            'Size':'Company Size',  'Founded':'Founded In',\n",
    "            'Type of ownership':'Ownership Type', 'Industry':'Job Industry',\n",
    "            'Sector':'Job Sector', 'Revenue':'Company Revenue','Easy Apply':'Easy Apply'}\n",
    "\n",
    "# Rename all columns for the new dataframe\n",
    "datadf_copy = datadf.copy()\n",
    "datadf_copy.rename(columns=new_cols, inplace=True)"
   ]
  },
  {
   "cell_type": "code",
   "execution_count": 10,
   "metadata": {},
   "outputs": [
    {
     "data": {
      "text/html": [
       "<div>\n",
       "<style scoped>\n",
       "    .dataframe tbody tr th:only-of-type {\n",
       "        vertical-align: middle;\n",
       "    }\n",
       "\n",
       "    .dataframe tbody tr th {\n",
       "        vertical-align: top;\n",
       "    }\n",
       "\n",
       "    .dataframe thead th {\n",
       "        text-align: right;\n",
       "    }\n",
       "</style>\n",
       "<table border=\"1\" class=\"dataframe\">\n",
       "  <thead>\n",
       "    <tr style=\"text-align: right;\">\n",
       "      <th></th>\n",
       "      <th>Job Title</th>\n",
       "      <th>Job Type</th>\n",
       "      <th>Salary Range</th>\n",
       "      <th>Job Description</th>\n",
       "      <th>Job Rating</th>\n",
       "      <th>Company Name</th>\n",
       "      <th>Location</th>\n",
       "      <th>HQ</th>\n",
       "      <th>Company Size</th>\n",
       "      <th>Founded In</th>\n",
       "      <th>Ownership Type</th>\n",
       "      <th>Job Industry</th>\n",
       "      <th>Job Sector</th>\n",
       "      <th>Company Revenue</th>\n",
       "      <th>Easy Apply</th>\n",
       "    </tr>\n",
       "  </thead>\n",
       "  <tbody>\n",
       "    <tr>\n",
       "      <th>0</th>\n",
       "      <td>Data Analyst, Center on Immigration and Justic...</td>\n",
       "      <td>Data Analyst</td>\n",
       "      <td>$37K-$66K (Glassdoor est.)</td>\n",
       "      <td>Are you eager to roll up your sleeves and harn...</td>\n",
       "      <td>3.2</td>\n",
       "      <td>Vera Institute of Justice\\n3.2</td>\n",
       "      <td>New York, NY</td>\n",
       "      <td>New York, NY</td>\n",
       "      <td>201 to 500 employees</td>\n",
       "      <td>1961</td>\n",
       "      <td>Nonprofit Organization</td>\n",
       "      <td>Social Assistance</td>\n",
       "      <td>Non-Profit</td>\n",
       "      <td>$100 to $500 million (USD)</td>\n",
       "      <td>True</td>\n",
       "    </tr>\n",
       "    <tr>\n",
       "      <th>1</th>\n",
       "      <td>Quality Data Analyst</td>\n",
       "      <td>Data Analyst</td>\n",
       "      <td>$37K-$66K (Glassdoor est.)</td>\n",
       "      <td>Overview\\n\\nProvides analytical and technical ...</td>\n",
       "      <td>3.8</td>\n",
       "      <td>Visiting Nurse Service of New York\\n3.8</td>\n",
       "      <td>New York, NY</td>\n",
       "      <td>New York, NY</td>\n",
       "      <td>10000+ employees</td>\n",
       "      <td>1893</td>\n",
       "      <td>Nonprofit Organization</td>\n",
       "      <td>Health Care Services &amp; Hospitals</td>\n",
       "      <td>Health Care</td>\n",
       "      <td>$2 to $5 billion (USD)</td>\n",
       "      <td>-1</td>\n",
       "    </tr>\n",
       "    <tr>\n",
       "      <th>2</th>\n",
       "      <td>Senior Data Analyst, Insights &amp; Analytics Team...</td>\n",
       "      <td>Data Analyst</td>\n",
       "      <td>$37K-$66K (Glassdoor est.)</td>\n",
       "      <td>We’re looking for a Senior Data Analyst who ha...</td>\n",
       "      <td>3.4</td>\n",
       "      <td>Squarespace\\n3.4</td>\n",
       "      <td>New York, NY</td>\n",
       "      <td>New York, NY</td>\n",
       "      <td>1001 to 5000 employees</td>\n",
       "      <td>2003</td>\n",
       "      <td>Company - Private</td>\n",
       "      <td>Internet</td>\n",
       "      <td>Information Technology</td>\n",
       "      <td>Unknown / Non-Applicable</td>\n",
       "      <td>-1</td>\n",
       "    </tr>\n",
       "    <tr>\n",
       "      <th>3</th>\n",
       "      <td>Data Analyst</td>\n",
       "      <td>Data Analyst</td>\n",
       "      <td>$37K-$66K (Glassdoor est.)</td>\n",
       "      <td>Requisition NumberRR-0001939\\nRemote:Yes\\nWe c...</td>\n",
       "      <td>4.1</td>\n",
       "      <td>Celerity\\n4.1</td>\n",
       "      <td>New York, NY</td>\n",
       "      <td>McLean, VA</td>\n",
       "      <td>201 to 500 employees</td>\n",
       "      <td>2002</td>\n",
       "      <td>Subsidiary or Business Segment</td>\n",
       "      <td>IT Services</td>\n",
       "      <td>Information Technology</td>\n",
       "      <td>$50 to $100 million (USD)</td>\n",
       "      <td>-1</td>\n",
       "    </tr>\n",
       "    <tr>\n",
       "      <th>4</th>\n",
       "      <td>Reporting Data Analyst</td>\n",
       "      <td>Data Analyst</td>\n",
       "      <td>$37K-$66K (Glassdoor est.)</td>\n",
       "      <td>ABOUT FANDUEL GROUP\\n\\nFanDuel Group is a worl...</td>\n",
       "      <td>3.9</td>\n",
       "      <td>FanDuel\\n3.9</td>\n",
       "      <td>New York, NY</td>\n",
       "      <td>New York, NY</td>\n",
       "      <td>501 to 1000 employees</td>\n",
       "      <td>2009</td>\n",
       "      <td>Company - Private</td>\n",
       "      <td>Sports &amp; Recreation</td>\n",
       "      <td>Arts, Entertainment &amp; Recreation</td>\n",
       "      <td>$100 to $500 million (USD)</td>\n",
       "      <td>True</td>\n",
       "    </tr>\n",
       "  </tbody>\n",
       "</table>\n",
       "</div>"
      ],
      "text/plain": [
       "                                           Job Title      Job Type  \\\n",
       "0  Data Analyst, Center on Immigration and Justic...  Data Analyst   \n",
       "1                               Quality Data Analyst  Data Analyst   \n",
       "2  Senior Data Analyst, Insights & Analytics Team...  Data Analyst   \n",
       "3                                       Data Analyst  Data Analyst   \n",
       "4                             Reporting Data Analyst  Data Analyst   \n",
       "\n",
       "                 Salary Range  \\\n",
       "0  $37K-$66K (Glassdoor est.)   \n",
       "1  $37K-$66K (Glassdoor est.)   \n",
       "2  $37K-$66K (Glassdoor est.)   \n",
       "3  $37K-$66K (Glassdoor est.)   \n",
       "4  $37K-$66K (Glassdoor est.)   \n",
       "\n",
       "                                     Job Description  Job Rating  \\\n",
       "0  Are you eager to roll up your sleeves and harn...         3.2   \n",
       "1  Overview\\n\\nProvides analytical and technical ...         3.8   \n",
       "2  We’re looking for a Senior Data Analyst who ha...         3.4   \n",
       "3  Requisition NumberRR-0001939\\nRemote:Yes\\nWe c...         4.1   \n",
       "4  ABOUT FANDUEL GROUP\\n\\nFanDuel Group is a worl...         3.9   \n",
       "\n",
       "                              Company Name      Location            HQ  \\\n",
       "0           Vera Institute of Justice\\n3.2  New York, NY  New York, NY   \n",
       "1  Visiting Nurse Service of New York\\n3.8  New York, NY  New York, NY   \n",
       "2                         Squarespace\\n3.4  New York, NY  New York, NY   \n",
       "3                            Celerity\\n4.1  New York, NY    McLean, VA   \n",
       "4                             FanDuel\\n3.9  New York, NY  New York, NY   \n",
       "\n",
       "             Company Size  Founded In                  Ownership Type  \\\n",
       "0    201 to 500 employees        1961          Nonprofit Organization   \n",
       "1        10000+ employees        1893          Nonprofit Organization   \n",
       "2  1001 to 5000 employees        2003               Company - Private   \n",
       "3    201 to 500 employees        2002  Subsidiary or Business Segment   \n",
       "4   501 to 1000 employees        2009               Company - Private   \n",
       "\n",
       "                       Job Industry                        Job Sector  \\\n",
       "0                 Social Assistance                        Non-Profit   \n",
       "1  Health Care Services & Hospitals                       Health Care   \n",
       "2                          Internet            Information Technology   \n",
       "3                       IT Services            Information Technology   \n",
       "4               Sports & Recreation  Arts, Entertainment & Recreation   \n",
       "\n",
       "              Company Revenue Easy Apply  \n",
       "0  $100 to $500 million (USD)       True  \n",
       "1      $2 to $5 billion (USD)         -1  \n",
       "2    Unknown / Non-Applicable         -1  \n",
       "3   $50 to $100 million (USD)         -1  \n",
       "4  $100 to $500 million (USD)       True  "
      ]
     },
     "execution_count": 10,
     "metadata": {},
     "output_type": "execute_result"
    }
   ],
   "source": [
    "# Create a new dataframe containing all the data \n",
    "dsjobs_df = pd.DataFrame(datadf_copy, columns=['Job Title', 'Job Type',\n",
    "                                          'Salary Range', 'Job Description',\n",
    "                                          'Job Rating', 'Company Name',\n",
    "                                          'Location', 'HQ', 'Company Size',\n",
    "                                          'Founded In', 'Ownership Type',\n",
    "                                          'Job Industry', 'Job Sector',\n",
    "                                          'Company Revenue', 'Easy Apply'])\n",
    "\n",
    "# Set the index for the new dataframe\n",
    "dsjobs_df.set_index(['Job Title'])\n",
    "\n",
    "# Display first 5 records of the combined dataframe\n",
    "dsjobs_df.head()"
   ]
  },
  {
   "cell_type": "markdown",
   "metadata": {},
   "source": [
    "#### Data Transformation\n",
    "<blockquote> This step involves operations such as handling missing values or values with '-1', dropping unwanted columns, creating new columns by splitting string values and finally splitting our main dataframe by type <i>viz.,</i> <b> positions, industry and location </b></blockquote>"
   ]
  },
  {
   "cell_type": "markdown",
   "metadata": {},
   "source": [
    "##### Clean-up & Splitting Columns"
   ]
  },
  {
   "cell_type": "code",
   "execution_count": 11,
   "metadata": {},
   "outputs": [],
   "source": [
    "# Clean up the 'Company Name' column to have relevant data \n",
    "company_names = dsjobs_df['Company Name'].str.split(\"\\n\", n=1, expand=True)\n",
    "dsjobs_df['Company Name'] = company_names\n",
    "\n",
    "# Split up 'Location' and 'HQ' into its respective City & State columns\n",
    "jobs_city_state = dsjobs_df['Location'].str.split(\", \", n=1, expand=True)\n",
    "dsjobs_df['Location City'] = jobs_city_state[0]\n",
    "dsjobs_df['Location State']= jobs_city_state[1]\n",
    "\n",
    "hq_city_state = dsjobs_df['Location'].str.split(\", \", n=1, expand=True)\n",
    "dsjobs_df['HQ City'] = hq_city_state[0]\n",
    "dsjobs_df['HQ State']= hq_city_state[1]\n",
    "\n",
    "# Eliminate rows that do not have a uniform state code \n",
    "non_us_locs = ['Arapahoe, CO', 'United Kingdom']\n",
    "\n",
    "dsjobs_df = dsjobs_df[~dsjobs_df['Location State'].isin(non_us_locs)]\n",
    "dsjobs_df = dsjobs_df[~dsjobs_df['HQ State'].isin(non_us_locs)]\n",
    "\n",
    "# Drop the 'Location' and 'HQ' columns that are no longer needed\n",
    "del dsjobs_df['Location']\n",
    "del dsjobs_df['HQ']"
   ]
  },
  {
   "cell_type": "markdown",
   "metadata": {},
   "source": [
    "##### Eliminating rows with '-1' or 'Unknown' values\n",
    "<blockquote> The choice to eliminate missing or null values is justified in the objective of narrowing down the job search to those positions from which we can derive the most information. After all, <i>\"little knowledge is dangerous!\"</i></blockquote>"
   ]
  },
  {
   "cell_type": "code",
   "execution_count": 12,
   "metadata": {},
   "outputs": [],
   "source": [
    "# Eliminate rows that have missing or unknown values\n",
    "incomplete_vals = ['-1', 'Unknown', '']\n",
    "\n",
    "dsjobs_df = dsjobs_df[~dsjobs_df['Job Industry'].isin(incomplete_vals)]\n",
    "dsjobs_df = dsjobs_df[~dsjobs_df['Job Sector'].isin(incomplete_vals)]\n",
    "dsjobs_df = dsjobs_df[~dsjobs_df['Ownership Type'].isin(incomplete_vals)]\n",
    "\n",
    "# Create a key-value mapping to rename all values in 'Ownership Type' column\n",
    "ownership_dict = {'Nonprofit Organization':'Non-Profit', 'Company - Private':'Private',\n",
    "                  'Subsidiary or Business Segment':'Subsidiary', 'Company - Public':'Public', \n",
    "                  'Hospital':'Hospital', 'Contract':'Contracted', 'Government':'Government',\n",
    "                  'School / School District':'School', 'Other Organization':'Other',\n",
    "                  'College / University':'University', 'Self-employed':'Freelance', \n",
    "                  'Private Practice / Firm':'Firm', 'Franchise':'Franchise'}\n",
    "\n",
    "# Replace all the values with relevant strings using the mapping\n",
    "dsjobs_df = dsjobs_df.replace({\"Ownership Type\": ownership_dict})"
   ]
  },
  {
   "cell_type": "markdown",
   "metadata": {},
   "source": [
    "<blockquote> For the <i>Easy Apply</i> column, we make assumptions that '-1' indicates a falsity since not enough information is available to make any other categories </blockquote>"
   ]
  },
  {
   "cell_type": "code",
   "execution_count": 13,
   "metadata": {},
   "outputs": [],
   "source": [
    "# Replace all '-1' values in 'Easy Apply' with False \n",
    "easy_apply_dict = {-1:False}\n",
    "dsjobs_df = dsjobs_df.replace({\"Easy Apply\": easy_apply_dict})"
   ]
  },
  {
   "cell_type": "markdown",
   "metadata": {},
   "source": [
    "##### Forming regular expressions to handle range values\n",
    "<blockquote> For the columns named <i>'Salary Range', 'Company Size' and 'Company Revenue'</i> we will form custom regular expressions to transform them into intuitive labels</blockquote>"
   ]
  },
  {
   "cell_type": "code",
   "execution_count": null,
   "metadata": {},
   "outputs": [],
   "source": []
  },
  {
   "cell_type": "code",
   "execution_count": null,
   "metadata": {},
   "outputs": [],
   "source": [
    "# Further clean-up of isolated values \n",
    "# clean_salary_range = dsjobs_df.loc[dsjobs_df['Salary Estimate'].str.contains(' to 1')] = ''\n",
    "\n",
    "# clean_salary_range = dsjobs_df.loc[dsjobs_df['Salary Estimate'].str.contains('71K to 130K(Employer')] = '71K to 130K'\n",
    "# clean_salary_range = dsjobs_df.loc[dsjobs_df['Salary Estimate'].str.contains('82K to 129K(Employer')]= '82K to 129K'\n",
    "# clean_salary_range = dsjobs_df.loc[dsjobs_df['Salary Estimate'].str.contains('82K to 130K(Employer')] = '82K to 130K'\n",
    "# clean_salary_range = dsjobs_df.loc[dsjobs_df['Salary Estimate'].str.contains('200K to 250K(Employer')] = '200K to 250K'\n",
    "\n",
    "# clean_salary_range = dsjobs_df.loc[dsjobs_df['Salary Estimate'].str.contains('34 to 53')] = '34K to 53K'\n",
    "# clean_salary_range = dsjobs_df.loc[dsjobs_df['Salary Estimate'].str.contains('10 to 26')] = '10K to 26K'\n",
    "# clean_salary_range = dsjobs_df.loc[dsjobs_df['Salary Estimate'].str.contains('17 to 27')] = '17K to 27K'\n",
    "\n",
    "# dsjobs_df['Salary Estimate'] = clean_salary_range\n",
    "\n",
    "# Sort the values in 'Salary Estimate' by ascending order\n",
    "# dsjobs_df = dsjobs_df.sort_values('Salary Estimate')"
   ]
  },
  {
   "cell_type": "code",
   "execution_count": null,
   "metadata": {},
   "outputs": [],
   "source": []
  }
 ],
 "metadata": {
  "kernelspec": {
   "display_name": "Python 3",
   "language": "python",
   "name": "python3"
  },
  "language_info": {
   "codemirror_mode": {
    "name": "ipython",
    "version": 3
   },
   "file_extension": ".py",
   "mimetype": "text/x-python",
   "name": "python",
   "nbconvert_exporter": "python",
   "pygments_lexer": "ipython3",
   "version": "3.7.6"
  }
 },
 "nbformat": 4,
 "nbformat_minor": 4
}
