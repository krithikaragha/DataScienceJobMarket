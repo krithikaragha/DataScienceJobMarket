{
 "cells": [
  {
   "cell_type": "markdown",
   "metadata": {},
   "source": [
    "### Data Science Job Market: <i>Year 2020</i>"
   ]
  },
  {
   "cell_type": "markdown",
   "metadata": {},
   "source": [
    "This project improves upon a previous data initiave by bringing in <i>updated data</i> to more precisely reflect current opportunities in the data science job market with the added variable of the ongoing COVID-19 global pandemic. Our goals include:\n",
    "   * Determine the top 3 or top 10 technical skills that are in-demand for aspiring candidates\n",
    "   * Deduce the hottest geographic areas that are doing high volume hiring in the data science space \n",
    "   * Summarize our observations and subsequent conclusions in a comprehensive jobs report which candidates can use as a <i>\"ready-reckoner\"</i> to make informed choices"
   ]
  },
  {
   "cell_type": "markdown",
   "metadata": {},
   "source": [
    "#### Import Dependencies"
   ]
  },
  {
   "cell_type": "code",
   "execution_count": 1,
   "metadata": {},
   "outputs": [],
   "source": [
    "import pandas as pd\n",
    "import numpy as np\n",
    "import matplotlib.pyplot as plt\n",
    "import re\n",
    "\n",
    "from math import log10\n",
    "from pywaffle import Waffle\n",
    "from mycolorpy import colorlist as mcp\n",
    "from collections import Counter"
   ]
  },
  {
   "cell_type": "markdown",
   "metadata": {},
   "source": [
    "#### Data Preprocessing\n",
    "\n",
    "<blockquote> Datasets were obtained from Kaggle and are separated by job functions <i>viz.,</i> data <i>analyst</i>, data <i>engineer</i> and data <i>scientist</i></blockquote>"
   ]
  },
  {
   "cell_type": "code",
   "execution_count": 2,
   "metadata": {},
   "outputs": [],
   "source": [
    "# Set identifiers for the 3 CSV files\n",
    "a_file = \"Resources/data_analyst_jobs.csv\"\n",
    "e_file = \"Resources/data_engineer_jobs.csv\"\n",
    "s_file = \"Resources/data_scientist_jobs.csv\""
   ]
  },
  {
   "cell_type": "code",
   "execution_count": 3,
   "metadata": {},
   "outputs": [],
   "source": [
    "# Read CSV files into respective dataframes \n",
    "analyst_df = pd.read_csv(a_file)\n",
    "engineer_df = pd.read_csv(e_file)\n",
    "scientist_df = pd.read_csv(s_file)"
   ]
  },
  {
   "cell_type": "code",
   "execution_count": 4,
   "metadata": {},
   "outputs": [],
   "source": [
    "# Drop useless columns, rename them first\n",
    "analyst_df.rename(columns={'Unnamed: 0': 'Nameless'}, inplace=True)\n",
    "del analyst_df['Nameless']\n",
    "\n",
    "scientist_df.rename(columns={'Unnamed: 0': 'Nameless'}, inplace=True)\n",
    "del scientist_df['Nameless']\n",
    "\n",
    "# Delete 'index' column from the data scientist jobs dataframe\n",
    "del scientist_df['index']"
   ]
  },
  {
   "cell_type": "markdown",
   "metadata": {},
   "source": [
    "<blockquote> Executive decisions were made to keep all data points for \n",
    "<i>engineering</i> roles since data engineers tend to wear many hats ranging from \"tester\"\n",
    "to \"architect\". The engineering jobs mixed in with the other two job roles i.e., data \n",
    "analyst and data scientist were filtered out.</blockquote>"
   ]
  },
  {
   "cell_type": "code",
   "execution_count": 5,
   "metadata": {},
   "outputs": [],
   "source": [
    "# Split values in 'Job Title' to create 'Job Category' that reflects the defined job function\n",
    "engineer_df['Job Category'] = engineer_df['Job Title'].apply(lambda x: 'Data Engineer' if 'Engineer' in x else 'Data Engineer')\n",
    "    \n",
    "# Additionally, filter out engineering roles mixed in with analyst/scientist functions\n",
    "analyst_df['Job Category'] = analyst_df['Job Title'].apply(lambda x: 'Data Analyst' if 'Analyst' in x else '')\n",
    "scientist_df['Job Category'] = scientist_df['Job Title'].apply(lambda x: 'Data Scientist' if 'Scientist' in x else '')"
   ]
  },
  {
   "cell_type": "code",
   "execution_count": 6,
   "metadata": {},
   "outputs": [],
   "source": [
    "# Combine the 3 dataframes into a single dataframe\n",
    "datadf_list = [analyst_df, engineer_df, scientist_df]\n",
    "datadf = pd.concat(datadf_list, join=\"inner\")"
   ]
  },
  {
   "cell_type": "markdown",
   "metadata": {},
   "source": [
    "<blockquote>The choice to drop the <i>Competitors</i> column from the combined dataframe stems from a reasoning that every aspiring candidate can do their own level of research about a Company and its competitors. From a very <i>practical</i> standpoint, we think this particular column is irrelevant to our objectives</blockquote>"
   ]
  },
  {
   "cell_type": "code",
   "execution_count": 7,
   "metadata": {},
   "outputs": [],
   "source": [
    "# Drop the 'Competitors' column from the combined dataframe\n",
    "del datadf['Competitors']"
   ]
  },
  {
   "cell_type": "code",
   "execution_count": 8,
   "metadata": {},
   "outputs": [],
   "source": [
    "# Create a key-value mapping to rename columns\n",
    "new_cols = {'Job Title':'Job Title', 'Job Category':'Job Type',\n",
    "            'Salary Estimate':'Salary Range', 'Job Description':'Job Description',\n",
    "            'Rating':'Job Rating', 'Company Name':'Company Name',\n",
    "            'Location':'Location', 'Headquarters':'HQ',\n",
    "            'Size':'Company Size',  'Founded':'Founded In',\n",
    "            'Type of ownership':'Ownership Type', 'Industry':'Job Industry',\n",
    "            'Sector':'Job Sector', 'Revenue':'Company Revenue','Easy Apply':'Easy Apply'}\n",
    "\n",
    "# Rename all columns for the new dataframe\n",
    "datadf_copy = datadf.copy()\n",
    "datadf_copy.rename(columns=new_cols, inplace=True)"
   ]
  },
  {
   "cell_type": "code",
   "execution_count": 9,
   "metadata": {},
   "outputs": [
    {
     "data": {
      "text/html": [
       "<div>\n",
       "<style scoped>\n",
       "    .dataframe tbody tr th:only-of-type {\n",
       "        vertical-align: middle;\n",
       "    }\n",
       "\n",
       "    .dataframe tbody tr th {\n",
       "        vertical-align: top;\n",
       "    }\n",
       "\n",
       "    .dataframe thead th {\n",
       "        text-align: right;\n",
       "    }\n",
       "</style>\n",
       "<table border=\"1\" class=\"dataframe\">\n",
       "  <thead>\n",
       "    <tr style=\"text-align: right;\">\n",
       "      <th></th>\n",
       "      <th>Job Title</th>\n",
       "      <th>Job Type</th>\n",
       "      <th>Salary Range</th>\n",
       "      <th>Job Description</th>\n",
       "      <th>Job Rating</th>\n",
       "      <th>Company Name</th>\n",
       "      <th>Location</th>\n",
       "      <th>HQ</th>\n",
       "      <th>Company Size</th>\n",
       "      <th>Founded In</th>\n",
       "      <th>Ownership Type</th>\n",
       "      <th>Job Industry</th>\n",
       "      <th>Job Sector</th>\n",
       "      <th>Company Revenue</th>\n",
       "      <th>Easy Apply</th>\n",
       "    </tr>\n",
       "  </thead>\n",
       "  <tbody>\n",
       "    <tr>\n",
       "      <th>0</th>\n",
       "      <td>Data Analyst, Center on Immigration and Justic...</td>\n",
       "      <td>Data Analyst</td>\n",
       "      <td>$37K-$66K (Glassdoor est.)</td>\n",
       "      <td>Are you eager to roll up your sleeves and harn...</td>\n",
       "      <td>3.2</td>\n",
       "      <td>Vera Institute of Justice\\n3.2</td>\n",
       "      <td>New York, NY</td>\n",
       "      <td>New York, NY</td>\n",
       "      <td>201 to 500 employees</td>\n",
       "      <td>1961</td>\n",
       "      <td>Nonprofit Organization</td>\n",
       "      <td>Social Assistance</td>\n",
       "      <td>Non-Profit</td>\n",
       "      <td>$100 to $500 million (USD)</td>\n",
       "      <td>True</td>\n",
       "    </tr>\n",
       "    <tr>\n",
       "      <th>1</th>\n",
       "      <td>Quality Data Analyst</td>\n",
       "      <td>Data Analyst</td>\n",
       "      <td>$37K-$66K (Glassdoor est.)</td>\n",
       "      <td>Overview\\n\\nProvides analytical and technical ...</td>\n",
       "      <td>3.8</td>\n",
       "      <td>Visiting Nurse Service of New York\\n3.8</td>\n",
       "      <td>New York, NY</td>\n",
       "      <td>New York, NY</td>\n",
       "      <td>10000+ employees</td>\n",
       "      <td>1893</td>\n",
       "      <td>Nonprofit Organization</td>\n",
       "      <td>Health Care Services &amp; Hospitals</td>\n",
       "      <td>Health Care</td>\n",
       "      <td>$2 to $5 billion (USD)</td>\n",
       "      <td>-1</td>\n",
       "    </tr>\n",
       "    <tr>\n",
       "      <th>2</th>\n",
       "      <td>Senior Data Analyst, Insights &amp; Analytics Team...</td>\n",
       "      <td>Data Analyst</td>\n",
       "      <td>$37K-$66K (Glassdoor est.)</td>\n",
       "      <td>We’re looking for a Senior Data Analyst who ha...</td>\n",
       "      <td>3.4</td>\n",
       "      <td>Squarespace\\n3.4</td>\n",
       "      <td>New York, NY</td>\n",
       "      <td>New York, NY</td>\n",
       "      <td>1001 to 5000 employees</td>\n",
       "      <td>2003</td>\n",
       "      <td>Company - Private</td>\n",
       "      <td>Internet</td>\n",
       "      <td>Information Technology</td>\n",
       "      <td>Unknown / Non-Applicable</td>\n",
       "      <td>-1</td>\n",
       "    </tr>\n",
       "    <tr>\n",
       "      <th>3</th>\n",
       "      <td>Data Analyst</td>\n",
       "      <td>Data Analyst</td>\n",
       "      <td>$37K-$66K (Glassdoor est.)</td>\n",
       "      <td>Requisition NumberRR-0001939\\nRemote:Yes\\nWe c...</td>\n",
       "      <td>4.1</td>\n",
       "      <td>Celerity\\n4.1</td>\n",
       "      <td>New York, NY</td>\n",
       "      <td>McLean, VA</td>\n",
       "      <td>201 to 500 employees</td>\n",
       "      <td>2002</td>\n",
       "      <td>Subsidiary or Business Segment</td>\n",
       "      <td>IT Services</td>\n",
       "      <td>Information Technology</td>\n",
       "      <td>$50 to $100 million (USD)</td>\n",
       "      <td>-1</td>\n",
       "    </tr>\n",
       "    <tr>\n",
       "      <th>4</th>\n",
       "      <td>Reporting Data Analyst</td>\n",
       "      <td>Data Analyst</td>\n",
       "      <td>$37K-$66K (Glassdoor est.)</td>\n",
       "      <td>ABOUT FANDUEL GROUP\\n\\nFanDuel Group is a worl...</td>\n",
       "      <td>3.9</td>\n",
       "      <td>FanDuel\\n3.9</td>\n",
       "      <td>New York, NY</td>\n",
       "      <td>New York, NY</td>\n",
       "      <td>501 to 1000 employees</td>\n",
       "      <td>2009</td>\n",
       "      <td>Company - Private</td>\n",
       "      <td>Sports &amp; Recreation</td>\n",
       "      <td>Arts, Entertainment &amp; Recreation</td>\n",
       "      <td>$100 to $500 million (USD)</td>\n",
       "      <td>True</td>\n",
       "    </tr>\n",
       "  </tbody>\n",
       "</table>\n",
       "</div>"
      ],
      "text/plain": [
       "                                           Job Title      Job Type  \\\n",
       "0  Data Analyst, Center on Immigration and Justic...  Data Analyst   \n",
       "1                               Quality Data Analyst  Data Analyst   \n",
       "2  Senior Data Analyst, Insights & Analytics Team...  Data Analyst   \n",
       "3                                       Data Analyst  Data Analyst   \n",
       "4                             Reporting Data Analyst  Data Analyst   \n",
       "\n",
       "                 Salary Range  \\\n",
       "0  $37K-$66K (Glassdoor est.)   \n",
       "1  $37K-$66K (Glassdoor est.)   \n",
       "2  $37K-$66K (Glassdoor est.)   \n",
       "3  $37K-$66K (Glassdoor est.)   \n",
       "4  $37K-$66K (Glassdoor est.)   \n",
       "\n",
       "                                     Job Description  Job Rating  \\\n",
       "0  Are you eager to roll up your sleeves and harn...         3.2   \n",
       "1  Overview\\n\\nProvides analytical and technical ...         3.8   \n",
       "2  We’re looking for a Senior Data Analyst who ha...         3.4   \n",
       "3  Requisition NumberRR-0001939\\nRemote:Yes\\nWe c...         4.1   \n",
       "4  ABOUT FANDUEL GROUP\\n\\nFanDuel Group is a worl...         3.9   \n",
       "\n",
       "                              Company Name      Location            HQ  \\\n",
       "0           Vera Institute of Justice\\n3.2  New York, NY  New York, NY   \n",
       "1  Visiting Nurse Service of New York\\n3.8  New York, NY  New York, NY   \n",
       "2                         Squarespace\\n3.4  New York, NY  New York, NY   \n",
       "3                            Celerity\\n4.1  New York, NY    McLean, VA   \n",
       "4                             FanDuel\\n3.9  New York, NY  New York, NY   \n",
       "\n",
       "             Company Size  Founded In                  Ownership Type  \\\n",
       "0    201 to 500 employees        1961          Nonprofit Organization   \n",
       "1        10000+ employees        1893          Nonprofit Organization   \n",
       "2  1001 to 5000 employees        2003               Company - Private   \n",
       "3    201 to 500 employees        2002  Subsidiary or Business Segment   \n",
       "4   501 to 1000 employees        2009               Company - Private   \n",
       "\n",
       "                       Job Industry                        Job Sector  \\\n",
       "0                 Social Assistance                        Non-Profit   \n",
       "1  Health Care Services & Hospitals                       Health Care   \n",
       "2                          Internet            Information Technology   \n",
       "3                       IT Services            Information Technology   \n",
       "4               Sports & Recreation  Arts, Entertainment & Recreation   \n",
       "\n",
       "              Company Revenue Easy Apply  \n",
       "0  $100 to $500 million (USD)       True  \n",
       "1      $2 to $5 billion (USD)         -1  \n",
       "2    Unknown / Non-Applicable         -1  \n",
       "3   $50 to $100 million (USD)         -1  \n",
       "4  $100 to $500 million (USD)       True  "
      ]
     },
     "execution_count": 9,
     "metadata": {},
     "output_type": "execute_result"
    }
   ],
   "source": [
    "# Create a new dataframe containing all the data \n",
    "dsjobs_df = pd.DataFrame(datadf_copy, columns=['Job Title', 'Job Type',\n",
    "                                          'Salary Range', 'Job Description',\n",
    "                                          'Job Rating', 'Company Name',\n",
    "                                          'Location', 'HQ', 'Company Size',\n",
    "                                          'Founded In', 'Ownership Type',\n",
    "                                          'Job Industry', 'Job Sector',\n",
    "                                          'Company Revenue', 'Easy Apply'])\n",
    "\n",
    "# Set the index for the new dataframe using the mapping\n",
    "dsjobs_df.set_index(['Job Title'])\n",
    "\n",
    "# Display first 5 records of the combined dataframe \n",
    "dsjobs_df.head()"
   ]
  },
  {
   "cell_type": "markdown",
   "metadata": {},
   "source": [
    "#### Data Transformation\n",
    "<blockquote> This step involves operations such as handling missing values or values with '-1', dropping unwanted columns, creating new columns by splitting string values and finally splitting our main dataframe by type <i>viz.,</i> <b> positions, industry and location </b></blockquote>"
   ]
  },
  {
   "cell_type": "markdown",
   "metadata": {},
   "source": [
    "##### Clean-up & Splitting Columns"
   ]
  },
  {
   "cell_type": "code",
   "execution_count": 10,
   "metadata": {},
   "outputs": [],
   "source": [
    "# Clean up the 'Company Name' column to have relevant data \n",
    "company_names = dsjobs_df['Company Name'].str.split(\"\\n\", n=1, expand=True)\n",
    "dsjobs_df['Company Name'] = company_names\n",
    "\n",
    "# Split up 'Location' and 'HQ' into its respective City & State columns\n",
    "jobs_city_state = dsjobs_df['Location'].str.split(\", \", n=1, expand=True)\n",
    "dsjobs_df['Location City'] = jobs_city_state[0]\n",
    "dsjobs_df['Location State']= jobs_city_state[1]\n",
    "\n",
    "hq_city_state = dsjobs_df['Location'].str.split(\", \", n=1, expand=True)\n",
    "dsjobs_df['HQ City'] = hq_city_state[0]\n",
    "dsjobs_df['HQ State']= hq_city_state[1]\n",
    "\n",
    "# Eliminate rows that do not have a uniform state code \n",
    "non_us_locs = ['Arapahoe, CO', 'United Kingdom']\n",
    "\n",
    "dsjobs_df = dsjobs_df[~dsjobs_df['Location State'].isin(non_us_locs)]\n",
    "dsjobs_df = dsjobs_df[~dsjobs_df['HQ State'].isin(non_us_locs)]\n",
    "\n",
    "# Drop the 'Location' and 'HQ' columns that are no longer needed\n",
    "del dsjobs_df['Location']\n",
    "del dsjobs_df['HQ']"
   ]
  },
  {
   "cell_type": "markdown",
   "metadata": {},
   "source": [
    "<blockquote> For the <i> Ownership Type </i> column, we transform the values to reflect single word entries to make our work easier</blockquote>"
   ]
  },
  {
   "cell_type": "code",
   "execution_count": 11,
   "metadata": {},
   "outputs": [],
   "source": [
    "# Create a key-value mapping to rename all values in 'Ownership Type' column\n",
    "ownership_dict = {'Nonprofit Organization':'Non-Profit', 'Company - Private':'Private',\n",
    "                  'Subsidiary or Business Segment':'Subsidiary', 'Company - Public':'Public', \n",
    "                  'Hospital':'Hospital', 'Contract':'Contracted', 'Government':'Government',\n",
    "                  'School / School District':'School', 'Other Organization':'Other',\n",
    "                  'College / University':'University', 'Self-employed':'Freelance', \n",
    "                  'Private Practice / Firm':'Firm', 'Franchise':'Franchise'}\n",
    "\n",
    "# Replace all the values with relevant strings using the mapping\n",
    "dsjobs_df = dsjobs_df.replace({\"Ownership Type\": ownership_dict})"
   ]
  },
  {
   "cell_type": "markdown",
   "metadata": {},
   "source": [
    "<blockquote> For the <i>Easy Apply</i> column, we make assumptions that '-1' indicates a falsity since not enough information is available to classify it under any other categories </blockquote>"
   ]
  },
  {
   "cell_type": "code",
   "execution_count": 12,
   "metadata": {},
   "outputs": [],
   "source": [
    "# Replace all '-1' values in 'Easy Apply' with False \n",
    "easy_apply_dict = {'-1':False}\n",
    "dsjobs_df = dsjobs_df.replace({\"Easy Apply\": easy_apply_dict})"
   ]
  },
  {
   "cell_type": "markdown",
   "metadata": {},
   "source": [
    "##### Forming regular expressions to handle range values\n",
    "<blockquote> For the columns named <i>'Salary Range', 'Company Size' and 'Company Revenue'</i> we will form custom regular expressions to transform them into intuitive labels</blockquote>"
   ]
  },
  {
   "cell_type": "code",
   "execution_count": 13,
   "metadata": {},
   "outputs": [],
   "source": [
    "# Use regex to extract substring to be used as replacement for values in 'Salary Range' column\n",
    "dsjobs_df['Salary Range'] = dsjobs_df['Salary Range'].str.extract(\"(?<!\\S)(\\$[0-9]{2,3}K\\-\\$[0-9]{2,3}K)\", expand=True)\n",
    "\n",
    "# Use string splitting to transform values in 'Company Size' column \n",
    "dsjobs_df['Company Size'] = dsjobs_df['Company Size'].str.split(\" e\", n=1, expand=True)\n",
    "dsjobs_df['Company Size'] = dsjobs_df['Company Size'].str.strip()"
   ]
  },
  {
   "cell_type": "code",
   "execution_count": 14,
   "metadata": {},
   "outputs": [],
   "source": [
    "# Use regex & string replace methods to transform values in 'Company Revenue' column \n",
    "dsjobs_df['Company Revenue'] = dsjobs_df['Company Revenue'].str.replace(\" to \", \"-\")\n",
    "dsjobs_df['Company Revenue'] = dsjobs_df['Company Revenue'].str.replace(\" million\", \"M\")\n",
    "dsjobs_df['Company Revenue'] = dsjobs_df['Company Revenue'].str.replace(\" billion\", \"B\")\n",
    "\n",
    "dsjobs_df['Company Revenue'] = dsjobs_df['Company Revenue'].str.split(' ', n=1, expand=True)\n",
    "dsjobs_df['Company Revenue'] = dsjobs_df['Company Revenue'].str.strip()"
   ]
  },
  {
   "cell_type": "markdown",
   "metadata": {},
   "source": [
    "##### Eliminating rows with missing or unknown values\n",
    "<blockquote> The choice to eliminate missing or null values is justified in the objective of narrowing down the job search to those positions from which we can derive the most information. After all, <i>\"little knowledge is dangerous!\"</i></blockquote>"
   ]
  },
  {
   "cell_type": "code",
   "execution_count": 15,
   "metadata": {},
   "outputs": [],
   "source": [
    "# Create a list that contains all types of outlier data observed in the final dataframe\n",
    "all_other_vals = {'-1', 'Unknown', -1, '', 'Less'}\n",
    "\n",
    "# Eliminate rows that have missing or unknown values\n",
    "dsjobs_df = dsjobs_df[~dsjobs_df.isin(all_other_vals)]\n",
    "\n",
    "# Eliminating any other null values in specific columns\n",
    "dsjobs_df = dsjobs_df.dropna(axis=0)"
   ]
  },
  {
   "cell_type": "code",
   "execution_count": 16,
   "metadata": {},
   "outputs": [
    {
     "data": {
      "text/html": [
       "<div>\n",
       "<style scoped>\n",
       "    .dataframe tbody tr th:only-of-type {\n",
       "        vertical-align: middle;\n",
       "    }\n",
       "\n",
       "    .dataframe tbody tr th {\n",
       "        vertical-align: top;\n",
       "    }\n",
       "\n",
       "    .dataframe thead th {\n",
       "        text-align: right;\n",
       "    }\n",
       "</style>\n",
       "<table border=\"1\" class=\"dataframe\">\n",
       "  <thead>\n",
       "    <tr style=\"text-align: right;\">\n",
       "      <th></th>\n",
       "      <th>Job Title</th>\n",
       "      <th>Job Type</th>\n",
       "      <th>Salary Range</th>\n",
       "      <th>Job Description</th>\n",
       "      <th>Job Rating</th>\n",
       "      <th>Company Name</th>\n",
       "      <th>Company Size</th>\n",
       "      <th>Founded In</th>\n",
       "      <th>Ownership Type</th>\n",
       "      <th>Job Industry</th>\n",
       "      <th>Job Sector</th>\n",
       "      <th>Company Revenue</th>\n",
       "      <th>Easy Apply</th>\n",
       "      <th>Location City</th>\n",
       "      <th>Location State</th>\n",
       "      <th>HQ City</th>\n",
       "      <th>HQ State</th>\n",
       "    </tr>\n",
       "  </thead>\n",
       "  <tbody>\n",
       "    <tr>\n",
       "      <th>0</th>\n",
       "      <td>Data Analyst, Center on Immigration and Justic...</td>\n",
       "      <td>Data Analyst</td>\n",
       "      <td>$37K-$66K</td>\n",
       "      <td>Are you eager to roll up your sleeves and harn...</td>\n",
       "      <td>3.2</td>\n",
       "      <td>Vera Institute of Justice</td>\n",
       "      <td>201 to 500</td>\n",
       "      <td>1961.0</td>\n",
       "      <td>Non-Profit</td>\n",
       "      <td>Social Assistance</td>\n",
       "      <td>Non-Profit</td>\n",
       "      <td>$100-$500M</td>\n",
       "      <td>True</td>\n",
       "      <td>New York</td>\n",
       "      <td>NY</td>\n",
       "      <td>New York</td>\n",
       "      <td>NY</td>\n",
       "    </tr>\n",
       "    <tr>\n",
       "      <th>1</th>\n",
       "      <td>Quality Data Analyst</td>\n",
       "      <td>Data Analyst</td>\n",
       "      <td>$37K-$66K</td>\n",
       "      <td>Overview\\n\\nProvides analytical and technical ...</td>\n",
       "      <td>3.8</td>\n",
       "      <td>Visiting Nurse Service of New York</td>\n",
       "      <td>10000+</td>\n",
       "      <td>1893.0</td>\n",
       "      <td>Non-Profit</td>\n",
       "      <td>Health Care Services &amp; Hospitals</td>\n",
       "      <td>Health Care</td>\n",
       "      <td>$2-$5B</td>\n",
       "      <td>False</td>\n",
       "      <td>New York</td>\n",
       "      <td>NY</td>\n",
       "      <td>New York</td>\n",
       "      <td>NY</td>\n",
       "    </tr>\n",
       "    <tr>\n",
       "      <th>3</th>\n",
       "      <td>Data Analyst</td>\n",
       "      <td>Data Analyst</td>\n",
       "      <td>$37K-$66K</td>\n",
       "      <td>Requisition NumberRR-0001939\\nRemote:Yes\\nWe c...</td>\n",
       "      <td>4.1</td>\n",
       "      <td>Celerity</td>\n",
       "      <td>201 to 500</td>\n",
       "      <td>2002.0</td>\n",
       "      <td>Subsidiary</td>\n",
       "      <td>IT Services</td>\n",
       "      <td>Information Technology</td>\n",
       "      <td>$50-$100M</td>\n",
       "      <td>False</td>\n",
       "      <td>New York</td>\n",
       "      <td>NY</td>\n",
       "      <td>New York</td>\n",
       "      <td>NY</td>\n",
       "    </tr>\n",
       "    <tr>\n",
       "      <th>4</th>\n",
       "      <td>Reporting Data Analyst</td>\n",
       "      <td>Data Analyst</td>\n",
       "      <td>$37K-$66K</td>\n",
       "      <td>ABOUT FANDUEL GROUP\\n\\nFanDuel Group is a worl...</td>\n",
       "      <td>3.9</td>\n",
       "      <td>FanDuel</td>\n",
       "      <td>501 to 1000</td>\n",
       "      <td>2009.0</td>\n",
       "      <td>Private</td>\n",
       "      <td>Sports &amp; Recreation</td>\n",
       "      <td>Arts, Entertainment &amp; Recreation</td>\n",
       "      <td>$100-$500M</td>\n",
       "      <td>True</td>\n",
       "      <td>New York</td>\n",
       "      <td>NY</td>\n",
       "      <td>New York</td>\n",
       "      <td>NY</td>\n",
       "    </tr>\n",
       "    <tr>\n",
       "      <th>7</th>\n",
       "      <td>Data Science Analyst</td>\n",
       "      <td>Data Analyst</td>\n",
       "      <td>$37K-$66K</td>\n",
       "      <td>Data Science Analyst\\n\\nJob Details\\nLevel\\nEx...</td>\n",
       "      <td>3.7</td>\n",
       "      <td>GNY Insurance Companies</td>\n",
       "      <td>201 to 500</td>\n",
       "      <td>1914.0</td>\n",
       "      <td>Private</td>\n",
       "      <td>Insurance Carriers</td>\n",
       "      <td>Insurance</td>\n",
       "      <td>$100-$500M</td>\n",
       "      <td>True</td>\n",
       "      <td>New York</td>\n",
       "      <td>NY</td>\n",
       "      <td>New York</td>\n",
       "      <td>NY</td>\n",
       "    </tr>\n",
       "  </tbody>\n",
       "</table>\n",
       "</div>"
      ],
      "text/plain": [
       "                                           Job Title      Job Type  \\\n",
       "0  Data Analyst, Center on Immigration and Justic...  Data Analyst   \n",
       "1                               Quality Data Analyst  Data Analyst   \n",
       "3                                       Data Analyst  Data Analyst   \n",
       "4                             Reporting Data Analyst  Data Analyst   \n",
       "7                               Data Science Analyst  Data Analyst   \n",
       "\n",
       "  Salary Range                                    Job Description  Job Rating  \\\n",
       "0    $37K-$66K  Are you eager to roll up your sleeves and harn...         3.2   \n",
       "1    $37K-$66K  Overview\\n\\nProvides analytical and technical ...         3.8   \n",
       "3    $37K-$66K  Requisition NumberRR-0001939\\nRemote:Yes\\nWe c...         4.1   \n",
       "4    $37K-$66K  ABOUT FANDUEL GROUP\\n\\nFanDuel Group is a worl...         3.9   \n",
       "7    $37K-$66K  Data Science Analyst\\n\\nJob Details\\nLevel\\nEx...         3.7   \n",
       "\n",
       "                         Company Name Company Size  Founded In Ownership Type  \\\n",
       "0           Vera Institute of Justice   201 to 500      1961.0     Non-Profit   \n",
       "1  Visiting Nurse Service of New York       10000+      1893.0     Non-Profit   \n",
       "3                            Celerity   201 to 500      2002.0     Subsidiary   \n",
       "4                             FanDuel  501 to 1000      2009.0        Private   \n",
       "7             GNY Insurance Companies   201 to 500      1914.0        Private   \n",
       "\n",
       "                       Job Industry                        Job Sector  \\\n",
       "0                 Social Assistance                        Non-Profit   \n",
       "1  Health Care Services & Hospitals                       Health Care   \n",
       "3                       IT Services            Information Technology   \n",
       "4               Sports & Recreation  Arts, Entertainment & Recreation   \n",
       "7                Insurance Carriers                         Insurance   \n",
       "\n",
       "  Company Revenue Easy Apply Location City Location State   HQ City HQ State  \n",
       "0      $100-$500M       True      New York             NY  New York       NY  \n",
       "1          $2-$5B      False      New York             NY  New York       NY  \n",
       "3       $50-$100M      False      New York             NY  New York       NY  \n",
       "4      $100-$500M       True      New York             NY  New York       NY  \n",
       "7      $100-$500M       True      New York             NY  New York       NY  "
      ]
     },
     "execution_count": 16,
     "metadata": {},
     "output_type": "execute_result"
    }
   ],
   "source": [
    "dsjobs_df.head()"
   ]
  },
  {
   "cell_type": "code",
   "execution_count": 17,
   "metadata": {},
   "outputs": [
    {
     "data": {
      "text/plain": [
       "(3532, 17)"
      ]
     },
     "execution_count": 17,
     "metadata": {},
     "output_type": "execute_result"
    }
   ],
   "source": [
    "dsjobs_df.shape"
   ]
  },
  {
   "cell_type": "markdown",
   "metadata": {},
   "source": [
    "##### Preparing custom dataframes for plotting\n",
    "<blockquote> Once all transformations are completed, we set about making custom dataframes with only <i> certain </i> columns that will serve our purposes for further analysis</blockquote>"
   ]
  },
  {
   "cell_type": "code",
   "execution_count": 18,
   "metadata": {},
   "outputs": [
    {
     "data": {
      "text/html": [
       "<div>\n",
       "<style scoped>\n",
       "    .dataframe tbody tr th:only-of-type {\n",
       "        vertical-align: middle;\n",
       "    }\n",
       "\n",
       "    .dataframe tbody tr th {\n",
       "        vertical-align: top;\n",
       "    }\n",
       "\n",
       "    .dataframe thead th {\n",
       "        text-align: right;\n",
       "    }\n",
       "</style>\n",
       "<table border=\"1\" class=\"dataframe\">\n",
       "  <thead>\n",
       "    <tr style=\"text-align: right;\">\n",
       "      <th></th>\n",
       "      <th>Job Title</th>\n",
       "      <th>Job Type</th>\n",
       "      <th>Job Description</th>\n",
       "      <th>Salary Range</th>\n",
       "      <th>Job Rating</th>\n",
       "      <th>Job Industry</th>\n",
       "      <th>Job Sector</th>\n",
       "      <th>Easy Apply</th>\n",
       "    </tr>\n",
       "  </thead>\n",
       "  <tbody>\n",
       "    <tr>\n",
       "      <th>0</th>\n",
       "      <td>Data Analyst, Center on Immigration and Justic...</td>\n",
       "      <td>Data Analyst</td>\n",
       "      <td>Are you eager to roll up your sleeves and harn...</td>\n",
       "      <td>$37K-$66K</td>\n",
       "      <td>3.2</td>\n",
       "      <td>Social Assistance</td>\n",
       "      <td>Non-Profit</td>\n",
       "      <td>True</td>\n",
       "    </tr>\n",
       "    <tr>\n",
       "      <th>1</th>\n",
       "      <td>Quality Data Analyst</td>\n",
       "      <td>Data Analyst</td>\n",
       "      <td>Overview\\n\\nProvides analytical and technical ...</td>\n",
       "      <td>$37K-$66K</td>\n",
       "      <td>3.8</td>\n",
       "      <td>Health Care Services &amp; Hospitals</td>\n",
       "      <td>Health Care</td>\n",
       "      <td>False</td>\n",
       "    </tr>\n",
       "    <tr>\n",
       "      <th>3</th>\n",
       "      <td>Data Analyst</td>\n",
       "      <td>Data Analyst</td>\n",
       "      <td>Requisition NumberRR-0001939\\nRemote:Yes\\nWe c...</td>\n",
       "      <td>$37K-$66K</td>\n",
       "      <td>4.1</td>\n",
       "      <td>IT Services</td>\n",
       "      <td>Information Technology</td>\n",
       "      <td>False</td>\n",
       "    </tr>\n",
       "    <tr>\n",
       "      <th>4</th>\n",
       "      <td>Reporting Data Analyst</td>\n",
       "      <td>Data Analyst</td>\n",
       "      <td>ABOUT FANDUEL GROUP\\n\\nFanDuel Group is a worl...</td>\n",
       "      <td>$37K-$66K</td>\n",
       "      <td>3.9</td>\n",
       "      <td>Sports &amp; Recreation</td>\n",
       "      <td>Arts, Entertainment &amp; Recreation</td>\n",
       "      <td>True</td>\n",
       "    </tr>\n",
       "    <tr>\n",
       "      <th>7</th>\n",
       "      <td>Data Science Analyst</td>\n",
       "      <td>Data Analyst</td>\n",
       "      <td>Data Science Analyst\\n\\nJob Details\\nLevel\\nEx...</td>\n",
       "      <td>$37K-$66K</td>\n",
       "      <td>3.7</td>\n",
       "      <td>Insurance Carriers</td>\n",
       "      <td>Insurance</td>\n",
       "      <td>True</td>\n",
       "    </tr>\n",
       "  </tbody>\n",
       "</table>\n",
       "</div>"
      ],
      "text/plain": [
       "                                           Job Title      Job Type  \\\n",
       "0  Data Analyst, Center on Immigration and Justic...  Data Analyst   \n",
       "1                               Quality Data Analyst  Data Analyst   \n",
       "3                                       Data Analyst  Data Analyst   \n",
       "4                             Reporting Data Analyst  Data Analyst   \n",
       "7                               Data Science Analyst  Data Analyst   \n",
       "\n",
       "                                     Job Description Salary Range  Job Rating  \\\n",
       "0  Are you eager to roll up your sleeves and harn...    $37K-$66K         3.2   \n",
       "1  Overview\\n\\nProvides analytical and technical ...    $37K-$66K         3.8   \n",
       "3  Requisition NumberRR-0001939\\nRemote:Yes\\nWe c...    $37K-$66K         4.1   \n",
       "4  ABOUT FANDUEL GROUP\\n\\nFanDuel Group is a worl...    $37K-$66K         3.9   \n",
       "7  Data Science Analyst\\n\\nJob Details\\nLevel\\nEx...    $37K-$66K         3.7   \n",
       "\n",
       "                       Job Industry                        Job Sector  \\\n",
       "0                 Social Assistance                        Non-Profit   \n",
       "1  Health Care Services & Hospitals                       Health Care   \n",
       "3                       IT Services            Information Technology   \n",
       "4               Sports & Recreation  Arts, Entertainment & Recreation   \n",
       "7                Insurance Carriers                         Insurance   \n",
       "\n",
       "  Easy Apply  \n",
       "0       True  \n",
       "1      False  \n",
       "3      False  \n",
       "4       True  \n",
       "7       True  "
      ]
     },
     "execution_count": 18,
     "metadata": {},
     "output_type": "execute_result"
    }
   ],
   "source": [
    "# Create a dataframe with job-specific columns\n",
    "jobs_df = pd.DataFrame(dsjobs_df, columns=['Job Title', 'Job Type', 'Job Description',\n",
    "                                           'Salary Range', 'Job Rating', 'Job Industry',\n",
    "                                           'Job Sector', 'Easy Apply'])\n",
    "\n",
    "jobs_df.set_index(['Job Title'])\n",
    "jobs_df.head()"
   ]
  },
  {
   "cell_type": "code",
   "execution_count": 19,
   "metadata": {},
   "outputs": [
    {
     "data": {
      "text/html": [
       "<div>\n",
       "<style scoped>\n",
       "    .dataframe tbody tr th:only-of-type {\n",
       "        vertical-align: middle;\n",
       "    }\n",
       "\n",
       "    .dataframe tbody tr th {\n",
       "        vertical-align: top;\n",
       "    }\n",
       "\n",
       "    .dataframe thead th {\n",
       "        text-align: right;\n",
       "    }\n",
       "</style>\n",
       "<table border=\"1\" class=\"dataframe\">\n",
       "  <thead>\n",
       "    <tr style=\"text-align: right;\">\n",
       "      <th></th>\n",
       "      <th>Job Title</th>\n",
       "      <th>Company Name</th>\n",
       "      <th>Salary Range</th>\n",
       "      <th>Company Size</th>\n",
       "      <th>Founded In</th>\n",
       "      <th>Ownership Type</th>\n",
       "      <th>Company Revenue</th>\n",
       "    </tr>\n",
       "  </thead>\n",
       "  <tbody>\n",
       "    <tr>\n",
       "      <th>0</th>\n",
       "      <td>Data Analyst, Center on Immigration and Justic...</td>\n",
       "      <td>Vera Institute of Justice</td>\n",
       "      <td>$37K-$66K</td>\n",
       "      <td>201 to 500</td>\n",
       "      <td>1961.0</td>\n",
       "      <td>Non-Profit</td>\n",
       "      <td>$100-$500M</td>\n",
       "    </tr>\n",
       "    <tr>\n",
       "      <th>1</th>\n",
       "      <td>Quality Data Analyst</td>\n",
       "      <td>Visiting Nurse Service of New York</td>\n",
       "      <td>$37K-$66K</td>\n",
       "      <td>10000+</td>\n",
       "      <td>1893.0</td>\n",
       "      <td>Non-Profit</td>\n",
       "      <td>$2-$5B</td>\n",
       "    </tr>\n",
       "    <tr>\n",
       "      <th>3</th>\n",
       "      <td>Data Analyst</td>\n",
       "      <td>Celerity</td>\n",
       "      <td>$37K-$66K</td>\n",
       "      <td>201 to 500</td>\n",
       "      <td>2002.0</td>\n",
       "      <td>Subsidiary</td>\n",
       "      <td>$50-$100M</td>\n",
       "    </tr>\n",
       "    <tr>\n",
       "      <th>4</th>\n",
       "      <td>Reporting Data Analyst</td>\n",
       "      <td>FanDuel</td>\n",
       "      <td>$37K-$66K</td>\n",
       "      <td>501 to 1000</td>\n",
       "      <td>2009.0</td>\n",
       "      <td>Private</td>\n",
       "      <td>$100-$500M</td>\n",
       "    </tr>\n",
       "    <tr>\n",
       "      <th>7</th>\n",
       "      <td>Data Science Analyst</td>\n",
       "      <td>GNY Insurance Companies</td>\n",
       "      <td>$37K-$66K</td>\n",
       "      <td>201 to 500</td>\n",
       "      <td>1914.0</td>\n",
       "      <td>Private</td>\n",
       "      <td>$100-$500M</td>\n",
       "    </tr>\n",
       "  </tbody>\n",
       "</table>\n",
       "</div>"
      ],
      "text/plain": [
       "                                           Job Title  \\\n",
       "0  Data Analyst, Center on Immigration and Justic...   \n",
       "1                               Quality Data Analyst   \n",
       "3                                       Data Analyst   \n",
       "4                             Reporting Data Analyst   \n",
       "7                               Data Science Analyst   \n",
       "\n",
       "                         Company Name Salary Range Company Size  Founded In  \\\n",
       "0           Vera Institute of Justice    $37K-$66K   201 to 500      1961.0   \n",
       "1  Visiting Nurse Service of New York    $37K-$66K       10000+      1893.0   \n",
       "3                            Celerity    $37K-$66K   201 to 500      2002.0   \n",
       "4                             FanDuel    $37K-$66K  501 to 1000      2009.0   \n",
       "7             GNY Insurance Companies    $37K-$66K   201 to 500      1914.0   \n",
       "\n",
       "  Ownership Type Company Revenue  \n",
       "0     Non-Profit      $100-$500M  \n",
       "1     Non-Profit          $2-$5B  \n",
       "3     Subsidiary       $50-$100M  \n",
       "4        Private      $100-$500M  \n",
       "7        Private      $100-$500M  "
      ]
     },
     "execution_count": 19,
     "metadata": {},
     "output_type": "execute_result"
    }
   ],
   "source": [
    "# Create a dataframe with company-specific columns\n",
    "company_df = pd.DataFrame(dsjobs_df, columns=['Job Title', 'Company Name', 'Salary Range',\n",
    "                                              'Company Size', 'Founded In', 'Ownership Type',\n",
    "                                              'Company Revenue'])\n",
    "\n",
    "company_df.set_index(['Job Title'])\n",
    "company_df.head()"
   ]
  },
  {
   "cell_type": "code",
   "execution_count": 20,
   "metadata": {},
   "outputs": [
    {
     "data": {
      "text/html": [
       "<div>\n",
       "<style scoped>\n",
       "    .dataframe tbody tr th:only-of-type {\n",
       "        vertical-align: middle;\n",
       "    }\n",
       "\n",
       "    .dataframe tbody tr th {\n",
       "        vertical-align: top;\n",
       "    }\n",
       "\n",
       "    .dataframe thead th {\n",
       "        text-align: right;\n",
       "    }\n",
       "</style>\n",
       "<table border=\"1\" class=\"dataframe\">\n",
       "  <thead>\n",
       "    <tr style=\"text-align: right;\">\n",
       "      <th></th>\n",
       "      <th>Job Title</th>\n",
       "      <th>Company Name</th>\n",
       "      <th>Salary Range</th>\n",
       "      <th>Location City</th>\n",
       "      <th>Location State</th>\n",
       "      <th>HQ City</th>\n",
       "      <th>HQ State</th>\n",
       "    </tr>\n",
       "  </thead>\n",
       "  <tbody>\n",
       "    <tr>\n",
       "      <th>0</th>\n",
       "      <td>Data Analyst, Center on Immigration and Justic...</td>\n",
       "      <td>Vera Institute of Justice</td>\n",
       "      <td>$37K-$66K</td>\n",
       "      <td>New York</td>\n",
       "      <td>NY</td>\n",
       "      <td>New York</td>\n",
       "      <td>NY</td>\n",
       "    </tr>\n",
       "    <tr>\n",
       "      <th>1</th>\n",
       "      <td>Quality Data Analyst</td>\n",
       "      <td>Visiting Nurse Service of New York</td>\n",
       "      <td>$37K-$66K</td>\n",
       "      <td>New York</td>\n",
       "      <td>NY</td>\n",
       "      <td>New York</td>\n",
       "      <td>NY</td>\n",
       "    </tr>\n",
       "    <tr>\n",
       "      <th>3</th>\n",
       "      <td>Data Analyst</td>\n",
       "      <td>Celerity</td>\n",
       "      <td>$37K-$66K</td>\n",
       "      <td>New York</td>\n",
       "      <td>NY</td>\n",
       "      <td>New York</td>\n",
       "      <td>NY</td>\n",
       "    </tr>\n",
       "    <tr>\n",
       "      <th>4</th>\n",
       "      <td>Reporting Data Analyst</td>\n",
       "      <td>FanDuel</td>\n",
       "      <td>$37K-$66K</td>\n",
       "      <td>New York</td>\n",
       "      <td>NY</td>\n",
       "      <td>New York</td>\n",
       "      <td>NY</td>\n",
       "    </tr>\n",
       "    <tr>\n",
       "      <th>7</th>\n",
       "      <td>Data Science Analyst</td>\n",
       "      <td>GNY Insurance Companies</td>\n",
       "      <td>$37K-$66K</td>\n",
       "      <td>New York</td>\n",
       "      <td>NY</td>\n",
       "      <td>New York</td>\n",
       "      <td>NY</td>\n",
       "    </tr>\n",
       "  </tbody>\n",
       "</table>\n",
       "</div>"
      ],
      "text/plain": [
       "                                           Job Title  \\\n",
       "0  Data Analyst, Center on Immigration and Justic...   \n",
       "1                               Quality Data Analyst   \n",
       "3                                       Data Analyst   \n",
       "4                             Reporting Data Analyst   \n",
       "7                               Data Science Analyst   \n",
       "\n",
       "                         Company Name Salary Range Location City  \\\n",
       "0           Vera Institute of Justice    $37K-$66K      New York   \n",
       "1  Visiting Nurse Service of New York    $37K-$66K      New York   \n",
       "3                            Celerity    $37K-$66K      New York   \n",
       "4                             FanDuel    $37K-$66K      New York   \n",
       "7             GNY Insurance Companies    $37K-$66K      New York   \n",
       "\n",
       "  Location State   HQ City HQ State  \n",
       "0             NY  New York       NY  \n",
       "1             NY  New York       NY  \n",
       "3             NY  New York       NY  \n",
       "4             NY  New York       NY  \n",
       "7             NY  New York       NY  "
      ]
     },
     "execution_count": 20,
     "metadata": {},
     "output_type": "execute_result"
    }
   ],
   "source": [
    "# Create a dataframe with location-specific columns\n",
    "location_df = pd.DataFrame(dsjobs_df, columns=['Job Title', 'Company Name', 'Salary Range',\n",
    "                                               'Location City', 'Location State', 'HQ City', 'HQ State'])\n",
    "\n",
    "location_df.set_index(['Job Title'])\n",
    "location_df.head()"
   ]
  },
  {
   "cell_type": "markdown",
   "metadata": {},
   "source": [
    "#### Data Analysis & Visualization\n",
    "<blockquote> This step involves working with individual dataframes to perform analyses, spot correlations between different columns in the data and visualize our analysis by way of different plots, charts and mappings. </blockquote>"
   ]
  },
  {
   "cell_type": "markdown",
   "metadata": {},
   "source": [
    "##### Row Chart to Visualize the Percent of Job Postings by Job Role (i.e., engineer, analyst and scientist)"
   ]
  },
  {
   "cell_type": "code",
   "execution_count": 21,
   "metadata": {},
   "outputs": [
    {
     "data": {
      "image/png": "[encoded data removed]",
      "text/plain": [
       "<Figure size 720x468 with 1 Axes>"
      ]
     },
     "metadata": {
      "needs_background": "light"
     },
     "output_type": "display_data"
    }
   ],
   "source": [
    "# Get the number of job postings by the job type \n",
    "jobs_count_by_type = jobs_df['Job Type'].value_counts()\n",
    "jobs_count_dict = jobs_count_by_type.to_dict()\n",
    "\n",
    "# Separate the job counts and job types into two lists\n",
    "job_types = list(jobs_count_dict.keys())\n",
    "jobs_counts = list(jobs_count_dict.values())\n",
    "\n",
    "# Get percentages for the job counts by job type\n",
    "total_job_counts = sum(jobs_counts)\n",
    "\n",
    "job_count_percents = [(c / total_job_counts) * 100 for c in jobs_counts]\n",
    "job_count_percents = [round(val, 2) for val in job_count_percents]\n",
    "\n",
    "# Plot the percent of job postings by job type on a horizontal bar chart\n",
    "fig, ax = plt.subplots(figsize=(10, 6.5))\n",
    "width=0.40\n",
    "ax.barh(job_types, job_count_percents, width, color='orange')\n",
    "ax.set_title('Percent of Job Postings by Job Role')\n",
    "\n",
    "for i, v in enumerate(job_count_percents):\n",
    "    ax.text(v + 0.25, i, str(v)+'%',\n",
    "            color = 'blue', fontweight = 'bold', fontsize=12)"
   ]
  },
  {
   "cell_type": "markdown",
   "metadata": {},
   "source": [
    "##### Stacked Row Chart to Visualize the Proportion of Jobs Available for Easy Apply"
   ]
  },
  {
   "cell_type": "code",
   "execution_count": 22,
   "metadata": {},
   "outputs": [
    {
     "data": {
      "text/plain": [
       "<matplotlib.axes._subplots.AxesSubplot at 0x7fbcc2d1d710>"
      ]
     },
     "execution_count": 22,
     "metadata": {},
     "output_type": "execute_result"
    },
    {
     "data": {
      "image/png": "[encoded data removed]",
      "text/plain": [
       "<Figure size 432x288 with 1 Axes>"
      ]
     },
     "metadata": {
      "needs_background": "light"
     },
     "output_type": "display_data"
    }
   ],
   "source": [
    "# Get the number of job postings that have 'Easy Apply' option\n",
    "jobs_by_easy_apply = jobs_df['Easy Apply'].value_counts()\n",
    "jobs_easy_apply_dict = jobs_by_easy_apply.to_dict()\n",
    "\n",
    "# Transform 'True' and 'False' cateogories into intuitive labels\n",
    "jobs_easy_apply_dict['Regular'] = jobs_easy_apply_dict.pop(False)\n",
    "jobs_easy_apply_dict['Easy Apply'] = jobs_easy_apply_dict.pop('True')\n",
    "\n",
    "# Separate the job counts and job types into two lists\n",
    "job_categories = list(jobs_easy_apply_dict.keys())\n",
    "jobs_counts = list(jobs_easy_apply_dict.values())\n",
    "\n",
    "# Get percentages for the job counts by job type\n",
    "total_job_counts = sum(jobs_counts)\n",
    "\n",
    "easy_apply_percents = [(c / total_job_counts) * 100 for c in jobs_counts]\n",
    "easy_apply_percents_list = [round(val) for val in easy_apply_percents]\n",
    "\n",
    "easy_apply_percents_dict = {}\n",
    "easy_apply_percents_dict['Regular'] = easy_apply_percents_list[0]\n",
    "easy_apply_percents_dict['Easy Apply'] = easy_apply_percents_list[1]\n",
    "\n",
    "# Convert the newly created dictionary into a series for plotting\n",
    "easy_apply_percents_df = pd.Series(easy_apply_percents_dict)\n",
    "\n",
    "# Plot a horizontal stacked bar chart to show proportion of jobs that are 'Easy Apply'\n",
    "easy_apply_percents_df.to_frame().T.plot.barh(stacked=True, width=0.30)"
   ]
  },
  {
   "cell_type": "markdown",
   "metadata": {},
   "source": [
    "##### Pie Chart to Visualize the Top 10 Job Sectors by Job Postings"
   ]
  },
  {
   "cell_type": "code",
   "execution_count": 23,
   "metadata": {},
   "outputs": [
    {
     "data": {
      "image/png": "[encoded data removed]",
      "text/plain": [
       "<Figure size 1080x720 with 1 Axes>"
      ]
     },
     "metadata": {},
     "output_type": "display_data"
    }
   ],
   "source": [
    "# Get the number of job postings categorized by Job Sector\n",
    "jobs_by_sector = jobs_df['Job Sector'].value_counts()\n",
    "jobs_by_sector_dict = jobs_by_sector.to_dict()\n",
    "\n",
    "jobs_by_sector_top_10 = dict(Counter(jobs_by_sector_dict).most_common(10))\n",
    "\n",
    "# Separate the job sector labels and job counts as lists\n",
    "job_sectors = list(jobs_by_sector_top_10.keys())\n",
    "job_counts = list(jobs_by_sector_top_10.values())\n",
    "\n",
    "# Plot a pie chart to deduce the Top 10 Job Sectors doing the most hiring\n",
    "colors = mcp.gen_color('tab10', n=10)\n",
    "explode = (0.1, 0.1, 0.1, 0.1, 0.1, 0, 0, 0, 0, 0) \n",
    "  \n",
    "plt.pie(job_counts, colors=colors, explode=explode, labels=job_sectors,\n",
    "        autopct = '%1.1f%%',startangle = 0,\n",
    "        wedgeprops = {\"edgecolor\" : \"black\",\n",
    "                    'linewidth' : 2,\n",
    "                    'antialiased': True})\n",
    "\n",
    "fig = plt.gcf()\n",
    "fig.set_figwidth(15)\n",
    "fig.set_figheight(10)\n",
    "\n",
    "plt.title('Top 10 Job Sectors by Total Job Postings')\n",
    "  \n",
    "# Equal aspect ratio ensures that pie is drawn as a circle.\n",
    "plt.axis('equal') \n",
    "  \n",
    "plt.show()"
   ]
  },
  {
   "cell_type": "markdown",
   "metadata": {},
   "source": [
    "##### Bar Chart to Visualize the Average Job Rating per Job Type (i.e, analyst, engineer and scientist)"
   ]
  },
  {
   "cell_type": "code",
   "execution_count": 24,
   "metadata": {},
   "outputs": [
    {
     "data": {
      "image/png": "[encoded data removed]",
      "text/plain": [
       "<Figure size 576x396 with 1 Axes>"
      ]
     },
     "metadata": {
      "needs_background": "light"
     },
     "output_type": "display_data"
    }
   ],
   "source": [
    "# Get the average job rating per job type \n",
    "avg_job_ratings = jobs_df.groupby('Job Type')['Job Rating'].mean()\n",
    "avg_job_ratings_dict = avg_job_ratings.to_dict()\n",
    "\n",
    "# Separate the job type and job ratings as lists\n",
    "job_type = list(avg_job_ratings_dict.keys())\n",
    "job_ratings = list(avg_job_ratings_dict.values())\n",
    "\n",
    "job_ratings = [round(val, 2) for val in job_ratings]\n",
    "\n",
    "# Plot the average job ratings by job type on a bar chart\n",
    "fig, ax = plt.subplots(figsize=(8, 5.5))\n",
    "width=0.30\n",
    "ax.barh(job_type, job_ratings, width, color='green')\n",
    "ax.set_title('Average Job Rating by Job Role')\n",
    "\n",
    "for i, v in enumerate(job_ratings):\n",
    "    ax.text(v + 0.02, i, str(v),\n",
    "            color = 'red', fontweight = 'bold', fontsize=13)"
   ]
  },
  {
   "cell_type": "markdown",
   "metadata": {},
   "source": [
    "##### Waffle Chart to Visualize the Volumne of Hiring by Company Size"
   ]
  },
  {
   "cell_type": "code",
   "execution_count": 25,
   "metadata": {},
   "outputs": [
    {
     "data": {
      "image/png": "[encoded data removed]",
      "text/plain": [
       "<Waffle size 1800x1080 with 1 Axes>"
      ]
     },
     "metadata": {},
     "output_type": "display_data"
    }
   ],
   "source": [
    "# Get the number of job postings by company size (or number of employees per company)\n",
    "jobs_by_company_size = company_df['Company Size'].value_counts()\n",
    "jobs_by_company_size_dict = jobs_by_company_size.to_dict()\n",
    "\n",
    "# Separate the job counts and company size into two lists\n",
    "company_size = list(jobs_by_company_size_dict.keys())\n",
    "job_counts = list(jobs_by_company_size_dict.values())\n",
    "\n",
    "# Get percentages for the job counts by job type\n",
    "total_job_counts = sum(jobs_counts)\n",
    "\n",
    "job_count_percents = [(c / total_job_counts) * 100 for c in job_counts]\n",
    "job_count_percents_list = [round(val) for val in job_count_percents]\n",
    "\n",
    "job_counts_company_size = dict(zip(company_size, job_count_percents_list))\n",
    "\n",
    "# Plot a waffle chart indicating the percentage of job postings with 'Easy Apply'\n",
    "fig = plt.figure(\n",
    "    FigureClass=Waffle, \n",
    "    rows=5, \n",
    "    values=job_count_percents_list, \n",
    "    colors=(\"#ED3F28\", \"#39AB1D\", \"#F569C2\", \"#FAF069\", \"#88CFF7\", \"#F5A83D\", \"#C372F2\"),\n",
    "    title={'label': 'Percentage of Job Postings by Company Size', 'loc': 'center', 'fontsize': 25},\n",
    "    labels=[\"{0} ({1}%)\".format(k, v) for k, v in job_counts_company_size.items()],\n",
    "    legend={'loc': 'lower left', 'bbox_to_anchor': (0, -0.4), 'ncol': len(job_counts_company_size), 'framealpha': 0, 'fontsize': 18}\n",
    ")\n",
    "fig.set_figwidth(25)\n",
    "fig.set_figheight(15)\n",
    "fig.gca().set_facecolor('#EEEEEE')\n",
    "fig.set_facecolor('#EEEEEE')\n",
    "plt.show()"
   ]
  },
  {
   "cell_type": "code",
   "execution_count": 26,
   "metadata": {},
   "outputs": [
    {
     "data": {
      "text/plain": [
       "array(['$100-$500M', '$2-$5B', '$50-$100M', '$1-$2B', '$5-$10B', '$1-$5M',\n",
       "       '$25-$50M', '$10+B', '$10-$25M', '$500M-$1B', '$5-$10M'],\n",
       "      dtype=object)"
      ]
     },
     "execution_count": 26,
     "metadata": {},
     "output_type": "execute_result"
    }
   ],
   "source": [
    "company_df['Company Revenue'].unique()"
   ]
  },
  {
   "cell_type": "markdown",
   "metadata": {},
   "source": [
    "##### Donut Pie Chart to Visualize Total Number of Companies by Company Revenue"
   ]
  },
  {
   "cell_type": "code",
   "execution_count": 27,
   "metadata": {},
   "outputs": [
    {
     "data": {
      "image/png": "[encoded data removed]",
      "text/plain": [
       "<Figure size 1080x720 with 1 Axes>"
      ]
     },
     "metadata": {},
     "output_type": "display_data"
    }
   ],
   "source": [
    "# Get the total number of companies grouped by size of Company Revenue\n",
    "total_companies_by_revenue = company_df['Company Revenue'].value_counts()\n",
    "total_companies_by_revenue_dict = total_companies_by_revenue.to_dict()\n",
    "\n",
    "# Separate the company counts and company revenue into two lists\n",
    "company_revenues = list(total_companies_by_revenue_dict.keys())\n",
    "company_counts = list(total_companies_by_revenue_dict.values())\n",
    "\n",
    "# Plot a donut pie chart to visualize total companies by company revenue size\n",
    "colors = mcp.gen_color(cmap='Paired', n=11)\n",
    "explode = [0.05] * 11\n",
    "\n",
    "plt.pie(company_counts, colors=colors, labels=company_revenues,\n",
    "        autopct='%1.1f%%', pctdistance=0.85,\n",
    "        explode=explode)\n",
    "  \n",
    "centre_circle = plt.Circle((0, 0), 0.70, fc='white')\n",
    "\n",
    "fig = plt.gcf()\n",
    "fig.set_figwidth(15)\n",
    "fig.set_figheight(10)\n",
    "fig.gca().add_artist(centre_circle)\n",
    "\n",
    "plt.title('Total Number of Companies by Company Revenue')\n",
    "plt.show()"
   ]
  },
  {
   "cell_type": "code",
   "execution_count": null,
   "metadata": {},
   "outputs": [],
   "source": []
  }
 ],
 "metadata": {
  "kernelspec": {
   "display_name": "Python 3",
   "language": "python",
   "name": "python3"
  },
  "language_info": {
   "codemirror_mode": {
    "name": "ipython",
    "version": 3
   },
   "file_extension": ".py",
   "mimetype": "text/x-python",
   "name": "python",
   "nbconvert_exporter": "python",
   "pygments_lexer": "ipython3",
   "version": "3.7.6"
  }
 },
 "nbformat": 4,
 "nbformat_minor": 4
}
